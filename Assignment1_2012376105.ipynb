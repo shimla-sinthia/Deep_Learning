{
  "nbformat": 4,
  "nbformat_minor": 0,
  "metadata": {
    "colab": {
      "provenance": [],
      "gpuType": "T4"
    },
    "kernelspec": {
      "name": "python3",
      "display_name": "Python 3"
    },
    "language_info": {
      "name": "python"
    },
    "accelerator": "GPU"
  },
  "cells": [
    {
      "cell_type": "code",
      "source": [
        "import tensorflow as tf\n",
        "from tensorflow.keras.models import Model\n",
        "from tensorflow.keras.layers import Dense, GlobalAveragePooling2D\n",
        "from tensorflow.keras.datasets import cifar100\n",
        "from tensorflow.keras.utils import to_categorical\n",
        "import numpy as np\n",
        "import time\n",
        "\n",
        "(x_train, y_train), (x_test, y_test) = cifar100.load_data(label_mode='fine')\n",
        "\n",
        "\n",
        "selected_classes = list(range(20))\n",
        "\n",
        "\n",
        "train_filter = np.isin(y_train.flatten(), selected_classes)\n",
        "test_filter = np.isin(y_test.flatten(), selected_classes)\n",
        "\n",
        "x_train, y_train = x_train[train_filter], y_train[train_filter]\n",
        "x_test, y_test = x_test[test_filter], y_test[test_filter]\n",
        "\n",
        "\n",
        "y_train = np.array([selected_classes.index(i[0]) for i in y_train])\n",
        "y_test = np.array([selected_classes.index(i[0]) for i in y_test])\n",
        "\n",
        "\n",
        "x_train = x_train.astype(\"float32\") / 255.0\n",
        "x_test = x_test.astype(\"float32\") / 255.0\n",
        "y_train = to_categorical(y_train, 20)\n",
        "y_test = to_categorical(y_test, 20)\n",
        "\n",
        "\n",
        "x_train = tf.image.resize(x_train, (224, 224))\n",
        "x_test = tf.image.resize(x_test, (224, 224))\n"
      ],
      "metadata": {
        "id": "dcVxzx-FU_Hd"
      },
      "execution_count": 1,
      "outputs": []
    },
    {
      "cell_type": "markdown",
      "source": [
        "Building Model"
      ],
      "metadata": {
        "id": "cGbj9YT-gQT6"
      }
    },
    {
      "cell_type": "code",
      "source": [
        "def build_model(pretrained_model, input_shape=(224, 224, 3), num_classes=20):\n",
        "    base_model = pretrained_model(weights='imagenet', include_top=False, input_shape=input_shape)\n",
        "    base_model.trainable = False\n",
        "\n",
        "    x = base_model.output\n",
        "    x = GlobalAveragePooling2D()(x)\n",
        "    x = Dense(128, activation='relu')(x)\n",
        "    predictions = Dense(num_classes, activation='softmax')(x)\n",
        "\n",
        "    model = Model(inputs=base_model.input, outputs=predictions)\n",
        "    model.compile(optimizer='adam', loss='categorical_crossentropy', metrics=['accuracy'])\n",
        "    return model\n"
      ],
      "metadata": {
        "id": "l8BDLMODVA_m"
      },
      "execution_count": 3,
      "outputs": []
    },
    {
      "cell_type": "markdown",
      "source": [
        "Model 1: **VGG16**"
      ],
      "metadata": {
        "id": "pymQOVNMgWCW"
      }
    },
    {
      "cell_type": "code",
      "source": [
        "from tensorflow.keras.applications import VGG16\n",
        "\n",
        "model_vgg16 = build_model(VGG16)\n",
        "start_time = time.time()\n",
        "model_vgg16.fit(x_train, y_train, validation_data=(x_test, y_test), epochs=3, batch_size=32)\n",
        "end_time = time.time()\n",
        "loss, acc = model_vgg16.evaluate(x_test, y_test)\n",
        "inference_time = (end_time - start_time) / len(x_test)\n",
        "model_size = model_vgg16.count_params() * 4 / (1024 ** 2)\n",
        "print(\"Model Size:\", model_size)\n",
        "print(\"Inference Time:\", inference_time)\n",
        "print(\"VGG16 Test Loss:\", loss)\n",
        "print(\"VGG16 Test Accuracy:\", acc)\n"
      ],
      "metadata": {
        "colab": {
          "base_uri": "https://localhost:8080/"
        },
        "id": "EQ5xbuX-VBD2",
        "outputId": "517d65aa-da60-4e3f-fe44-49604ca15b0e"
      },
      "execution_count": 7,
      "outputs": [
        {
          "output_type": "stream",
          "name": "stdout",
          "text": [
            "Epoch 1/3\n",
            "\u001b[1m313/313\u001b[0m \u001b[32m━━━━━━━━━━━━━━━━━━━━\u001b[0m\u001b[37m\u001b[0m \u001b[1m77s\u001b[0m 240ms/step - accuracy: 0.1557 - loss: 2.8344 - val_accuracy: 0.3220 - val_loss: 2.3238\n",
            "Epoch 2/3\n",
            "\u001b[1m313/313\u001b[0m \u001b[32m━━━━━━━━━━━━━━━━━━━━\u001b[0m\u001b[37m\u001b[0m \u001b[1m64s\u001b[0m 185ms/step - accuracy: 0.3224 - loss: 2.2647 - val_accuracy: 0.3985 - val_loss: 2.0338\n",
            "Epoch 3/3\n",
            "\u001b[1m313/313\u001b[0m \u001b[32m━━━━━━━━━━━━━━━━━━━━\u001b[0m\u001b[37m\u001b[0m \u001b[1m83s\u001b[0m 187ms/step - accuracy: 0.3960 - loss: 2.0249 - val_accuracy: 0.4315 - val_loss: 1.8905\n",
            "\u001b[1m63/63\u001b[0m \u001b[32m━━━━━━━━━━━━━━━━━━━━\u001b[0m\u001b[37m\u001b[0m \u001b[1m10s\u001b[0m 151ms/step - accuracy: 0.4287 - loss: 1.8919\n",
            "Model Size: 56.39241027832031\n",
            "Inference Time: 0.12346413350105286\n",
            "VGG16 Test Loss: 1.8904694318771362\n",
            "VGG16 Test Accuracy: 0.43149998784065247\n"
          ]
        }
      ]
    },
    {
      "cell_type": "markdown",
      "source": [
        "Model 2: **VGG19**"
      ],
      "metadata": {
        "id": "UlnrjKf5gfL5"
      }
    },
    {
      "cell_type": "code",
      "source": [
        "from tensorflow.keras.applications import VGG19\n",
        "\n",
        "model_vgg19 = build_model(VGG19)\n",
        "start_time = time.time()\n",
        "model_vgg19.fit(x_train, y_train, validation_data=(x_test, y_test), epochs=3, batch_size=32)\n",
        "end_time = time.time()\n",
        "loss, acc = model_vgg19.evaluate(x_test, y_test)\n",
        "inference_time = (end_time - start_time) / len(x_test)\n",
        "model_size = model_vgg19.count_params() * 4 / (1024 ** 2)\n",
        "print(\"Model Size:\", model_size)\n",
        "print(\"Inference Time:\", inference_time)\n",
        "print(\"VGG16 Test Loss:\", loss)\n",
        "print(\"VGG16 Test Accuracy:\", acc)"
      ],
      "metadata": {
        "colab": {
          "base_uri": "https://localhost:8080/"
        },
        "id": "qMDRNWNvVBGp",
        "outputId": "445d18e7-5579-4a88-eec5-9ec4568f1e1c"
      },
      "execution_count": 8,
      "outputs": [
        {
          "output_type": "stream",
          "name": "stdout",
          "text": [
            "Epoch 1/3\n",
            "\u001b[1m313/313\u001b[0m \u001b[32m━━━━━━━━━━━━━━━━━━━━\u001b[0m\u001b[37m\u001b[0m \u001b[1m102s\u001b[0m 289ms/step - accuracy: 0.1044 - loss: 2.9360 - val_accuracy: 0.2385 - val_loss: 2.5738\n",
            "Epoch 2/3\n",
            "\u001b[1m313/313\u001b[0m \u001b[32m━━━━━━━━━━━━━━━━━━━━\u001b[0m\u001b[37m\u001b[0m \u001b[1m124s\u001b[0m 266ms/step - accuracy: 0.2415 - loss: 2.5128 - val_accuracy: 0.2880 - val_loss: 2.3181\n",
            "Epoch 3/3\n",
            "\u001b[1m313/313\u001b[0m \u001b[32m━━━━━━━━━━━━━━━━━━━━\u001b[0m\u001b[37m\u001b[0m \u001b[1m134s\u001b[0m 240ms/step - accuracy: 0.2994 - loss: 2.3020 - val_accuracy: 0.3480 - val_loss: 2.1530\n",
            "\u001b[1m63/63\u001b[0m \u001b[32m━━━━━━━━━━━━━━━━━━━━\u001b[0m\u001b[37m\u001b[0m \u001b[1m12s\u001b[0m 195ms/step - accuracy: 0.3625 - loss: 2.1483\n",
            "Model Size: 76.64729309082031\n",
            "Inference Time: 0.18350576984882355\n",
            "VGG16 Test Loss: 2.153027057647705\n",
            "VGG16 Test Accuracy: 0.3479999899864197\n"
          ]
        }
      ]
    },
    {
      "cell_type": "markdown",
      "source": [
        "Model 3: **RestNet50**"
      ],
      "metadata": {
        "id": "sojUL373gmMV"
      }
    },
    {
      "cell_type": "code",
      "source": [
        "from tensorflow.keras.applications import ResNet50\n",
        "\n",
        "model_resnet50 = build_model(ResNet50)\n",
        "start_time = time.time()\n",
        "model_resnet50.fit(x_train, y_train, validation_data=(x_test, y_test), epochs=3, batch_size=32)\n",
        "end_time = time.time()\n",
        "loss, acc = model_resnet50.evaluate(x_test, y_test)\n",
        "inference_time = (end_time - start_time) / len(x_test)\n",
        "model_size = model_resnet50.count_params() * 4 / (1024 ** 2)\n",
        "print(\"Model Size:\", model_size)\n",
        "print(\"Inference Time:\", inference_time)\n",
        "print(\"RestNet50 Test Loss:\", loss)\n",
        "print(\"RestNet50 Test Accuracy:\", acc)\n"
      ],
      "metadata": {
        "colab": {
          "base_uri": "https://localhost:8080/"
        },
        "id": "vU-DyLSGVBMB",
        "outputId": "95e21be9-afc6-424b-dbf5-cf5053196a66"
      },
      "execution_count": 9,
      "outputs": [
        {
          "output_type": "stream",
          "name": "stdout",
          "text": [
            "Epoch 1/3\n",
            "\u001b[1m313/313\u001b[0m \u001b[32m━━━━━━━━━━━━━━━━━━━━\u001b[0m\u001b[37m\u001b[0m \u001b[1m54s\u001b[0m 131ms/step - accuracy: 0.0491 - loss: 3.0449 - val_accuracy: 0.0500 - val_loss: 2.9958\n",
            "Epoch 2/3\n",
            "\u001b[1m313/313\u001b[0m \u001b[32m━━━━━━━━━━━━━━━━━━━━\u001b[0m\u001b[37m\u001b[0m \u001b[1m66s\u001b[0m 97ms/step - accuracy: 0.0487 - loss: 2.9959 - val_accuracy: 0.0500 - val_loss: 2.9957\n",
            "Epoch 3/3\n",
            "\u001b[1m313/313\u001b[0m \u001b[32m━━━━━━━━━━━━━━━━━━━━\u001b[0m\u001b[37m\u001b[0m \u001b[1m41s\u001b[0m 97ms/step - accuracy: 0.0518 - loss: 2.9960 - val_accuracy: 0.0500 - val_loss: 2.9957\n",
            "\u001b[1m63/63\u001b[0m \u001b[32m━━━━━━━━━━━━━━━━━━━━\u001b[0m\u001b[37m\u001b[0m \u001b[1m5s\u001b[0m 80ms/step - accuracy: 0.0528 - loss: 2.9957\n",
            "Model Size: 90.99031066894531\n",
            "Inference Time: 0.08044157457351685\n",
            "RestNet50 Test Loss: 2.9957449436187744\n",
            "RestNet50 Test Accuracy: 0.05000000074505806\n"
          ]
        }
      ]
    },
    {
      "cell_type": "markdown",
      "source": [
        "Model 4: **RestNet101**"
      ],
      "metadata": {
        "id": "Qgn1-R0lgv5c"
      }
    },
    {
      "cell_type": "code",
      "source": [
        "from tensorflow.keras.applications import ResNet101\n",
        "\n",
        "model_resnet101 = build_model(ResNet101)\n",
        "start_time = time.time()\n",
        "model_resnet101.fit(x_train, y_train, validation_data=(x_test, y_test), epochs=3, batch_size=32)\n",
        "end_time = time.time()\n",
        "loss, acc = model_resnet101.evaluate(x_test, y_test)\n",
        "inference_time = (end_time - start_time) / len(x_test)\n",
        "model_size = model_resnet101.count_params() * 4 / (1024 ** 2)\n",
        "print(\"Model Size:\", model_size)\n",
        "print(\"Inference Time:\", inference_time)\n",
        "print(\"RestNet101 Test Loss:\", loss)\n",
        "print(\"ResNet101 Test Accuracy:\", acc)\n"
      ],
      "metadata": {
        "colab": {
          "base_uri": "https://localhost:8080/"
        },
        "id": "YzFYk4qrVBO5",
        "outputId": "a7b5b78d-1cf7-4b87-ea3b-ac568f8613b4"
      },
      "execution_count": 10,
      "outputs": [
        {
          "output_type": "stream",
          "name": "stdout",
          "text": [
            "Downloading data from https://storage.googleapis.com/tensorflow/keras-applications/resnet/resnet101_weights_tf_dim_ordering_tf_kernels_notop.h5\n",
            "\u001b[1m171446536/171446536\u001b[0m \u001b[32m━━━━━━━━━━━━━━━━━━━━\u001b[0m\u001b[37m\u001b[0m \u001b[1m9s\u001b[0m 0us/step\n",
            "Epoch 1/3\n",
            "\u001b[1m313/313\u001b[0m \u001b[32m━━━━━━━━━━━━━━━━━━━━\u001b[0m\u001b[37m\u001b[0m \u001b[1m98s\u001b[0m 241ms/step - accuracy: 0.0592 - loss: 3.0162 - val_accuracy: 0.0805 - val_loss: 2.9712\n",
            "Epoch 2/3\n",
            "\u001b[1m313/313\u001b[0m \u001b[32m━━━━━━━━━━━━━━━━━━━━\u001b[0m\u001b[37m\u001b[0m \u001b[1m114s\u001b[0m 172ms/step - accuracy: 0.0902 - loss: 2.9609 - val_accuracy: 0.0990 - val_loss: 2.9176\n",
            "Epoch 3/3\n",
            "\u001b[1m313/313\u001b[0m \u001b[32m━━━━━━━━━━━━━━━━━━━━\u001b[0m\u001b[37m\u001b[0m \u001b[1m82s\u001b[0m 173ms/step - accuracy: 0.0986 - loss: 2.9099 - val_accuracy: 0.1080 - val_loss: 2.8885\n",
            "\u001b[1m63/63\u001b[0m \u001b[32m━━━━━━━━━━━━━━━━━━━━\u001b[0m\u001b[37m\u001b[0m \u001b[1m9s\u001b[0m 138ms/step - accuracy: 0.1162 - loss: 2.8851\n",
            "Model Size: 163.7383575439453\n",
            "Inference Time: 0.16088604533672332\n",
            "RestNet101 Test Loss: 2.888521909713745\n",
            "ResNet101 Test Accuracy: 0.1080000028014183\n"
          ]
        }
      ]
    },
    {
      "cell_type": "markdown",
      "source": [
        "Model 5: **NASNetMobile**"
      ],
      "metadata": {
        "id": "7Pgby0_il3Os"
      }
    },
    {
      "cell_type": "code",
      "source": [
        "from tensorflow.keras.applications import NASNetMobile\n",
        "\n",
        "model_nasnetmobile = build_model(NASNetMobile)\n",
        "start_time = time.time()\n",
        "model_nasnetmobile.fit(x_train, y_train, validation_data=(x_test, y_test), epochs=3, batch_size=32)\n",
        "end_time = time.time()\n",
        "loss, acc = model_nasnetmobile.evaluate(x_test, y_test)\n",
        "inference_time = (end_time - start_time) / len(x_test)\n",
        "model_size = model_nasnetmobile.count_params() * 4 / (1024 ** 2)\n",
        "print(\"Model Size:\", model_size)\n",
        "print(\"Inference Time:\", inference_time)\n",
        "print(\"NASNetMobile Test Loss:\", loss)\n",
        "print(\"NASNetMobileNet Test Accuracy:\", acc)\n"
      ],
      "metadata": {
        "colab": {
          "base_uri": "https://localhost:8080/"
        },
        "id": "Qhtx8UmRVBRV",
        "outputId": "b2390a85-e187-4087-94e0-481905c5c0dc"
      },
      "execution_count": 4,
      "outputs": [
        {
          "output_type": "stream",
          "name": "stdout",
          "text": [
            "Epoch 1/3\n",
            "\u001b[1m313/313\u001b[0m \u001b[32m━━━━━━━━━━━━━━━━━━━━\u001b[0m\u001b[37m\u001b[0m \u001b[1m93s\u001b[0m 181ms/step - accuracy: 0.6138 - loss: 1.3783 - val_accuracy: 0.7975 - val_loss: 0.6611\n",
            "Epoch 2/3\n",
            "\u001b[1m313/313\u001b[0m \u001b[32m━━━━━━━━━━━━━━━━━━━━\u001b[0m\u001b[37m\u001b[0m \u001b[1m34s\u001b[0m 70ms/step - accuracy: 0.8078 - loss: 0.5873 - val_accuracy: 0.8125 - val_loss: 0.6355\n",
            "Epoch 3/3\n",
            "\u001b[1m313/313\u001b[0m \u001b[32m━━━━━━━━━━━━━━━━━━━━\u001b[0m\u001b[37m\u001b[0m \u001b[1m20s\u001b[0m 65ms/step - accuracy: 0.8415 - loss: 0.4855 - val_accuracy: 0.8155 - val_loss: 0.5814\n",
            "\u001b[1m63/63\u001b[0m \u001b[32m━━━━━━━━━━━━━━━━━━━━\u001b[0m\u001b[37m\u001b[0m \u001b[1m3s\u001b[0m 53ms/step - accuracy: 0.7978 - loss: 0.6226\n",
            "Model Size: 16.813629150390625\n",
            "Inference Time: 0.0763734130859375\n",
            "NASNetMobile Test Loss: 0.581369161605835\n",
            "NASNetMobileNet Test Accuracy: 0.815500020980835\n"
          ]
        }
      ]
    },
    {
      "cell_type": "code",
      "source": [
        "import tensorflow as tf\n",
        "from tensorflow.keras.models import Model\n",
        "from tensorflow.keras.layers import Dense, GlobalAveragePooling2D\n",
        "from tensorflow.keras.datasets import cifar100\n",
        "from tensorflow.keras.utils import to_categorical\n",
        "import numpy as np\n",
        "import time\n",
        "\n",
        "(x_train, y_train), (x_test, y_test) = cifar100.load_data(label_mode='fine')\n",
        "\n",
        "\n",
        "selected_classes = list(range(20))\n",
        "\n",
        "\n",
        "train_filter = np.isin(y_train.flatten(), selected_classes)\n",
        "test_filter = np.isin(y_test.flatten(), selected_classes)\n",
        "\n",
        "x_train, y_train = x_train[train_filter], y_train[train_filter]\n",
        "x_test, y_test = x_test[test_filter], y_test[test_filter]\n",
        "\n",
        "\n",
        "y_train = np.array([selected_classes.index(i[0]) for i in y_train])\n",
        "y_test = np.array([selected_classes.index(i[0]) for i in y_test])\n",
        "\n",
        "\n",
        "x_train = x_train.astype(\"float32\") / 255.0\n",
        "x_test = x_test.astype(\"float32\") / 255.0\n",
        "y_train = to_categorical(y_train, 20)\n",
        "y_test = to_categorical(y_test, 20)\n",
        "\n",
        "\n",
        "x_train = tf.image.resize(x_train, (224, 224))\n",
        "x_test = tf.image.resize(x_test, (224, 224))\n"
      ],
      "metadata": {
        "id": "pt7SbP3kXa4B"
      },
      "execution_count": 4,
      "outputs": []
    },
    {
      "cell_type": "code",
      "source": [
        "def build_model(pretrained_model, input_shape=(224, 224, 3), num_classes=20):\n",
        "    base_model = pretrained_model(weights='imagenet', include_top=False, input_shape=input_shape)\n",
        "    base_model.trainable = False\n",
        "\n",
        "    x = base_model.output\n",
        "    x = GlobalAveragePooling2D()(x)\n",
        "    x = Dense(128, activation='relu')(x)\n",
        "    predictions = Dense(num_classes, activation='softmax')(x)\n",
        "\n",
        "    model = Model(inputs=base_model.input, outputs=predictions)\n",
        "    model.compile(optimizer='adam', loss='categorical_crossentropy', metrics=['accuracy'])\n",
        "    return model\n"
      ],
      "metadata": {
        "id": "YSbjKf-AXbeQ"
      },
      "execution_count": 5,
      "outputs": []
    },
    {
      "cell_type": "markdown",
      "source": [
        "Model 6: **InceptionV3**"
      ],
      "metadata": {
        "id": "ArLpDdVGl9MV"
      }
    },
    {
      "cell_type": "code",
      "source": [
        "from tensorflow.keras.applications import InceptionV3\n",
        "\n",
        "model_inception = build_model(InceptionV3)\n",
        "start_time = time.time()\n",
        "model_inception.fit(x_train, y_train, validation_data=(x_test, y_test), epochs=3, batch_size=32)\n",
        "end_time = time.time()\n",
        "loss, acc = model_inception.evaluate(x_test, y_test)\n",
        "inference_time = (end_time - start_time) / len(x_test)\n",
        "model_size = model_inception.count_params() * 4 / (1024 ** 2)\n",
        "print(\"Model Size:\", model_size)\n",
        "print(\"Inference Time:\", inference_time)\n",
        "print(\"InceptionV3 Test Loss:\", loss)\n",
        "print(\"InceptionV3 Test Accuracy:\", acc)"
      ],
      "metadata": {
        "colab": {
          "base_uri": "https://localhost:8080/"
        },
        "id": "GpNVXKVAVBVN",
        "outputId": "cbb5e0e6-aaa5-4993-acfe-6522dc383788"
      },
      "execution_count": 5,
      "outputs": [
        {
          "output_type": "stream",
          "name": "stdout",
          "text": [
            "Downloading data from https://storage.googleapis.com/tensorflow/keras-applications/inception_v3/inception_v3_weights_tf_dim_ordering_tf_kernels_notop.h5\n",
            "\u001b[1m87910968/87910968\u001b[0m \u001b[32m━━━━━━━━━━━━━━━━━━━━\u001b[0m\u001b[37m\u001b[0m \u001b[1m5s\u001b[0m 0us/step\n",
            "Epoch 1/3\n",
            "\u001b[1m313/313\u001b[0m \u001b[32m━━━━━━━━━━━━━━━━━━━━\u001b[0m\u001b[37m\u001b[0m \u001b[1m57s\u001b[0m 127ms/step - accuracy: 0.5867 - loss: 1.4188 - val_accuracy: 0.7710 - val_loss: 0.7214\n",
            "Epoch 2/3\n",
            "\u001b[1m313/313\u001b[0m \u001b[32m━━━━━━━━━━━━━━━━━━━━\u001b[0m\u001b[37m\u001b[0m \u001b[1m58s\u001b[0m 77ms/step - accuracy: 0.8059 - loss: 0.5845 - val_accuracy: 0.7840 - val_loss: 0.6865\n",
            "Epoch 3/3\n",
            "\u001b[1m313/313\u001b[0m \u001b[32m━━━━━━━━━━━━━━━━━━━━\u001b[0m\u001b[37m\u001b[0m \u001b[1m42s\u001b[0m 80ms/step - accuracy: 0.8536 - loss: 0.4408 - val_accuracy: 0.7930 - val_loss: 0.6849\n",
            "\u001b[1m63/63\u001b[0m \u001b[32m━━━━━━━━━━━━━━━━━━━━\u001b[0m\u001b[37m\u001b[0m \u001b[1m4s\u001b[0m 64ms/step - accuracy: 0.7918 - loss: 0.7082\n",
            "Model Size: 84.18135070800781\n",
            "Inference Time: 0.07817060291767121\n",
            "InceptionV3 Test Loss: 0.6848650574684143\n",
            "InceptionV3 Test Accuracy: 0.7929999828338623\n"
          ]
        }
      ]
    },
    {
      "cell_type": "markdown",
      "source": [
        "Model 7: **Xception**"
      ],
      "metadata": {
        "id": "_A3tuF48z3P9"
      }
    },
    {
      "cell_type": "code",
      "source": [
        "from tensorflow.keras.applications import Xception\n",
        "\n",
        "model_xception = build_model(Xception)\n",
        "start_time = time.time()\n",
        "model_xception.fit(x_train, y_train, validation_data=(x_test, y_test), epochs=3, batch_size=32)\n",
        "end_time = time.time()\n",
        "loss, acc = model_xception.evaluate(x_test, y_test)\n",
        "inference_time = (end_time - start_time) / len(x_test)\n",
        "model_size = model_xception.count_params() * 4 / (1024 ** 2)\n",
        "print(\"Model Size:\", model_size)\n",
        "print(\"Inference Time:\", inference_time)\n",
        "print(\"Xception Test Loss:\", loss)\n",
        "print(\"Xception Test Accuracy:\", acc)"
      ],
      "metadata": {
        "colab": {
          "base_uri": "https://localhost:8080/"
        },
        "id": "fFuQpukYVe9V",
        "outputId": "55de9581-2a30-4106-e597-f3416a32b729"
      },
      "execution_count": 6,
      "outputs": [
        {
          "output_type": "stream",
          "name": "stdout",
          "text": [
            "Downloading data from https://storage.googleapis.com/tensorflow/keras-applications/xception/xception_weights_tf_dim_ordering_tf_kernels_notop.h5\n",
            "\u001b[1m83683744/83683744\u001b[0m \u001b[32m━━━━━━━━━━━━━━━━━━━━\u001b[0m\u001b[37m\u001b[0m \u001b[1m6s\u001b[0m 0us/step\n",
            "Epoch 1/3\n",
            "\u001b[1m313/313\u001b[0m \u001b[32m━━━━━━━━━━━━━━━━━━━━\u001b[0m\u001b[37m\u001b[0m \u001b[1m77s\u001b[0m 209ms/step - accuracy: 0.6431 - loss: 1.2404 - val_accuracy: 0.8010 - val_loss: 0.6183\n",
            "Epoch 2/3\n",
            "\u001b[1m313/313\u001b[0m \u001b[32m━━━━━━━━━━━━━━━━━━━━\u001b[0m\u001b[37m\u001b[0m \u001b[1m49s\u001b[0m 157ms/step - accuracy: 0.8306 - loss: 0.5205 - val_accuracy: 0.8075 - val_loss: 0.5904\n",
            "Epoch 3/3\n",
            "\u001b[1m313/313\u001b[0m \u001b[32m━━━━━━━━━━━━━━━━━━━━\u001b[0m\u001b[37m\u001b[0m \u001b[1m82s\u001b[0m 157ms/step - accuracy: 0.8777 - loss: 0.3714 - val_accuracy: 0.8065 - val_loss: 0.6342\n",
            "\u001b[1m63/63\u001b[0m \u001b[32m━━━━━━━━━━━━━━━━━━━━\u001b[0m\u001b[37m\u001b[0m \u001b[1m8s\u001b[0m 122ms/step - accuracy: 0.8002 - loss: 0.6742\n",
            "Model Size: 80.59056091308594\n",
            "Inference Time: 0.10412070488929749\n",
            "Xception Test Loss: 0.6342160701751709\n",
            "Xception Test Accuracy: 0.8065000176429749\n"
          ]
        }
      ]
    },
    {
      "cell_type": "markdown",
      "source": [
        "Model 8: **EfficientNetB0**"
      ],
      "metadata": {
        "id": "j5yzMLuPz-X9"
      }
    },
    {
      "cell_type": "code",
      "source": [
        "from tensorflow.keras.applications import EfficientNetB0\n",
        "\n",
        "model_effnet = build_model(EfficientNetB0)\n",
        "start_time = time.time()\n",
        "model_effnet.fit(x_train, y_train, validation_data=(x_test, y_test), epochs=3, batch_size=32)\n",
        "end_time = time.time()\n",
        "loss, acc = model_effnet.evaluate(x_test, y_test)\n",
        "inference_time = (end_time - start_time) / len(x_test)\n",
        "model_size = model_effnet.count_params() * 4 / (1024 ** 2)\n",
        "print(\"Model Size:\", model_size)\n",
        "print(\"Inference Time:\", inference_time)\n",
        "print(\"EfficientNetB0 Test Loss:\", loss)\n",
        "print(\"EfficientNetB0 Test Accuracy:\", acc)\n",
        "\n"
      ],
      "metadata": {
        "colab": {
          "base_uri": "https://localhost:8080/"
        },
        "id": "db6rsd9qVfAM",
        "outputId": "8774f6b3-3eac-495b-a86c-727feb1cd3fd"
      },
      "execution_count": 7,
      "outputs": [
        {
          "output_type": "stream",
          "name": "stdout",
          "text": [
            "Downloading data from https://storage.googleapis.com/keras-applications/efficientnetb0_notop.h5\n",
            "\u001b[1m16705208/16705208\u001b[0m \u001b[32m━━━━━━━━━━━━━━━━━━━━\u001b[0m\u001b[37m\u001b[0m \u001b[1m2s\u001b[0m 0us/step\n",
            "Epoch 1/3\n",
            "\u001b[1m313/313\u001b[0m \u001b[32m━━━━━━━━━━━━━━━━━━━━\u001b[0m\u001b[37m\u001b[0m \u001b[1m56s\u001b[0m 108ms/step - accuracy: 0.0467 - loss: 3.0084 - val_accuracy: 0.0500 - val_loss: 2.9958\n",
            "Epoch 2/3\n",
            "\u001b[1m313/313\u001b[0m \u001b[32m━━━━━━━━━━━━━━━━━━━━\u001b[0m\u001b[37m\u001b[0m \u001b[1m51s\u001b[0m 46ms/step - accuracy: 0.0453 - loss: 2.9960 - val_accuracy: 0.0500 - val_loss: 2.9957\n",
            "Epoch 3/3\n",
            "\u001b[1m313/313\u001b[0m \u001b[32m━━━━━━━━━━━━━━━━━━━━\u001b[0m\u001b[37m\u001b[0m \u001b[1m20s\u001b[0m 46ms/step - accuracy: 0.0449 - loss: 2.9959 - val_accuracy: 0.0500 - val_loss: 2.9957\n",
            "\u001b[1m63/63\u001b[0m \u001b[32m━━━━━━━━━━━━━━━━━━━━\u001b[0m\u001b[37m\u001b[0m \u001b[1m2s\u001b[0m 37ms/step - accuracy: 0.0580 - loss: 2.9956\n",
            "Model Size: 16.08321762084961\n",
            "Inference Time: 0.06376260769367217\n",
            "EfficientNetB0 Test Loss: 2.995741128921509\n",
            "EfficientNetB0 Test Accuracy: 0.05000000074505806\n"
          ]
        }
      ]
    },
    {
      "cell_type": "markdown",
      "source": [
        "Model 9: **DenseNet121**"
      ],
      "metadata": {
        "id": "cnW8BQia0GrF"
      }
    },
    {
      "cell_type": "code",
      "source": [
        "from tensorflow.keras.applications import DenseNet121\n",
        "\n",
        "model_densenet = build_model(DenseNet121)\n",
        "start_time = time.time()\n",
        "model_densenet.fit(x_train, y_train, validation_data=(x_test, y_test), epochs=3, batch_size=32)\n",
        "end_time = time.time()\n",
        "loss, acc = model_densenet.evaluate(x_test, y_test)\n",
        "inference_time = (end_time - start_time) / len(x_test)\n",
        "model_size = model_densenet.count_params() * 4 / (1024 ** 2)\n",
        "print(\"Model Size:\", model_size)\n",
        "print(\"Inference Time:\", inference_time)\n",
        "print(\"DenseNet121 Test Loss:\", loss)\n",
        "print(\"DenseNet121 Test Accuracy:\", acc)\n",
        "\n"
      ],
      "metadata": {
        "colab": {
          "base_uri": "https://localhost:8080/"
        },
        "id": "9HERXleHVBf2",
        "outputId": "b4d191f1-f602-44ea-e30f-8b739d9b228d"
      },
      "execution_count": 6,
      "outputs": [
        {
          "output_type": "stream",
          "name": "stdout",
          "text": [
            "Epoch 1/3\n",
            "\u001b[1m313/313\u001b[0m \u001b[32m━━━━━━━━━━━━━━━━━━━━\u001b[0m\u001b[37m\u001b[0m \u001b[1m88s\u001b[0m 189ms/step - accuracy: 0.5130 - loss: 1.6319 - val_accuracy: 0.7515 - val_loss: 0.7519\n",
            "Epoch 2/3\n",
            "\u001b[1m313/313\u001b[0m \u001b[32m━━━━━━━━━━━━━━━━━━━━\u001b[0m\u001b[37m\u001b[0m \u001b[1m35s\u001b[0m 86ms/step - accuracy: 0.7932 - loss: 0.6364 - val_accuracy: 0.7665 - val_loss: 0.6927\n",
            "Epoch 3/3\n",
            "\u001b[1m313/313\u001b[0m \u001b[32m━━━━━━━━━━━━━━━━━━━━\u001b[0m\u001b[37m\u001b[0m \u001b[1m27s\u001b[0m 88ms/step - accuracy: 0.8248 - loss: 0.5305 - val_accuracy: 0.8075 - val_loss: 0.6157\n",
            "\u001b[1m63/63\u001b[0m \u001b[32m━━━━━━━━━━━━━━━━━━━━\u001b[0m\u001b[37m\u001b[0m \u001b[1m5s\u001b[0m 73ms/step - accuracy: 0.7918 - loss: 0.6602\n",
            "Model Size: 27.356277465820312\n",
            "Inference Time: 0.08376858985424042\n",
            "DenseNet121 Test Loss: 0.6157269477844238\n",
            "DenseNet121 Test Accuracy: 0.8075000047683716\n"
          ]
        }
      ]
    },
    {
      "cell_type": "markdown",
      "source": [
        "Model 10: **MobileNetV2**"
      ],
      "metadata": {
        "id": "ZW9qgfOd0M4d"
      }
    },
    {
      "cell_type": "code",
      "source": [
        "from tensorflow.keras.applications import MobileNetV2\n",
        "\n",
        "model_mobilenetv2= build_model(MobileNetV2)\n",
        "start_time = time.time()\n",
        "model_mobilenetv2.fit(x_train, y_train, validation_data=(x_test, y_test), epochs=5, batch_size=32)\n",
        "end_time = time.time()\n",
        "loss, acc = model_mobilenetv2.evaluate(x_test, y_test)\n",
        "inference_time = (end_time - start_time) / len(x_test)\n",
        "model_size = model_mobilenetv2.count_params() * 4 / (1024 ** 2)\n",
        "print(\"Model Size:\", model_size)\n",
        "print(\"Inference Time:\", inference_time)\n",
        "print(\"MobileNetV2 Test Loss:\", loss)\n",
        "print(\"MobileNetV2 Test Accuracy:\", acc)\n"
      ],
      "metadata": {
        "colab": {
          "base_uri": "https://localhost:8080/"
        },
        "id": "BeqD-PuoVBid",
        "outputId": "05fe9265-f078-4ec0-e15e-6209b25764db"
      },
      "execution_count": 7,
      "outputs": [
        {
          "output_type": "stream",
          "name": "stdout",
          "text": [
            "Downloading data from https://storage.googleapis.com/tensorflow/keras-applications/mobilenet_v2/mobilenet_v2_weights_tf_dim_ordering_tf_kernels_1.0_224_no_top.h5\n",
            "\u001b[1m9406464/9406464\u001b[0m \u001b[32m━━━━━━━━━━━━━━━━━━━━\u001b[0m\u001b[37m\u001b[0m \u001b[1m2s\u001b[0m 0us/step\n",
            "Epoch 1/5\n",
            "\u001b[1m313/313\u001b[0m \u001b[32m━━━━━━━━━━━━━━━━━━━━\u001b[0m\u001b[37m\u001b[0m \u001b[1m30s\u001b[0m 66ms/step - accuracy: 0.5373 - loss: 1.5703 - val_accuracy: 0.7535 - val_loss: 0.7636\n",
            "Epoch 2/5\n",
            "\u001b[1m313/313\u001b[0m \u001b[32m━━━━━━━━━━━━━━━━━━━━\u001b[0m\u001b[37m\u001b[0m \u001b[1m28s\u001b[0m 39ms/step - accuracy: 0.7789 - loss: 0.6723 - val_accuracy: 0.7585 - val_loss: 0.7642\n",
            "Epoch 3/5\n",
            "\u001b[1m313/313\u001b[0m \u001b[32m━━━━━━━━━━━━━━━━━━━━\u001b[0m\u001b[37m\u001b[0m \u001b[1m13s\u001b[0m 40ms/step - accuracy: 0.8225 - loss: 0.5347 - val_accuracy: 0.7605 - val_loss: 0.7148\n",
            "Epoch 4/5\n",
            "\u001b[1m313/313\u001b[0m \u001b[32m━━━━━━━━━━━━━━━━━━━━\u001b[0m\u001b[37m\u001b[0m \u001b[1m12s\u001b[0m 40ms/step - accuracy: 0.8557 - loss: 0.4361 - val_accuracy: 0.7775 - val_loss: 0.6678\n",
            "Epoch 5/5\n",
            "\u001b[1m313/313\u001b[0m \u001b[32m━━━━━━━━━━━━━━━━━━━━\u001b[0m\u001b[37m\u001b[0m \u001b[1m12s\u001b[0m 40ms/step - accuracy: 0.8832 - loss: 0.3652 - val_accuracy: 0.7840 - val_loss: 0.6790\n",
            "\u001b[1m63/63\u001b[0m \u001b[32m━━━━━━━━━━━━━━━━━━━━\u001b[0m\u001b[37m\u001b[0m \u001b[1m2s\u001b[0m 31ms/step - accuracy: 0.7683 - loss: 0.7399\n",
            "Model Size: 9.248855590820312\n",
            "Inference Time: 0.047689895629882816\n",
            "MobileNetV2 Test Loss: 0.6789664626121521\n",
            "MobileNetV2 Test Accuracy: 0.7839999794960022\n"
          ]
        }
      ]
    }
  ]
}